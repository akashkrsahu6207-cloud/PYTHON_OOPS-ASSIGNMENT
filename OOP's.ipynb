{
  "nbformat": 4,
  "nbformat_minor": 0,
  "metadata": {
    "colab": {
      "provenance": []
    },
    "kernelspec": {
      "name": "python3",
      "display_name": "Python 3"
    },
    "language_info": {
      "name": "python"
    }
  },
  "cells": [
    {
      "cell_type": "markdown",
      "source": [
        "#OOP's Assignment\n"
      ],
      "metadata": {
        "id": "4EPPjxd-Woyd"
      }
    },
    {
      "cell_type": "markdown",
      "source": [
        "#THEORY QUESTION\n"
      ],
      "metadata": {
        "id": "-3lrXvtdWuyQ"
      }
    },
    {
      "cell_type": "markdown",
      "source": [
        "1.What is Object-Oriented Programming (OOP)?\n",
        "\n",
        "ANS-Object-Oriented Programming (OOP) is a programming paradigm (style of programming) that organizes software design around objects rather than just functions and logic.\n",
        "\n",
        " Object = A real-world entity (like Car, Student, Bank Account) that has:\n",
        "\n",
        "Attributes (data / properties) → e.g., color, name, balance\n",
        "\n",
        "Methods (functions / behavior) → e.g., drive(), study(), deposit()"
      ],
      "metadata": {
        "id": "xyibNtGAWz3q"
      }
    },
    {
      "cell_type": "markdown",
      "source": [
        "2. What is a class in OOP?\n",
        "\n",
        "ANS-Definition: A class defines the attributes (data/properties) and methods (functions/behaviors) that its objects will have.\n",
        "\n",
        "Not an object itself - It only describes how objects should look and behave.\n",
        "\n",
        "Objects are instances of a class."
      ],
      "metadata": {
        "id": "2z4WuHhuXLYn"
      }
    },
    {
      "cell_type": "markdown",
      "source": [
        "3.What is an object in OOP?\n",
        "\n",
        "\n",
        "ANS-An object in Object-Oriented Programming (OOP) is a real-world entity created (instantiated) from a class.\n",
        "\n",
        "-- If a class is the blueprint, then an object is the actual product made from that blueprint."
      ],
      "metadata": {
        "id": "S1wfAtAeXbLP"
      }
    },
    {
      "cell_type": "code",
      "source": [
        "4.What is the difference between abstraction and encapsulation?\n",
        "\n",
        "\n",
        "ANS-Abstraction\n",
        "\n",
        "Definition: Hiding implementation details and showing only the essential features to the user.\n",
        "\n",
        "Focus: What an object does, not how it does it.\n",
        "\n",
        "Achieved by:\n",
        "\n",
        "Abstract classes & Interfaces (in Java, C++).\n",
        "\n",
        "In Python, using abstract base classes (ABC module).\n",
        "\n",
        "\n",
        "\n",
        "\n",
        "\n",
        "Encapsulation\n",
        "\n",
        "Definition: Wrapping data (attributes) and methods (functions) together into a single unit (class). Also controlling access to them.\n",
        "\n",
        "Focus: How the data is hidden/protected and accessed.\n",
        "\n",
        "Achieved by:\n",
        "\n",
        "Using access modifiers (private, protected, public).\n",
        "\n",
        "Getters & setters."
      ],
      "metadata": {
        "id": "BTN9V2ysXmZj"
      },
      "execution_count": null,
      "outputs": []
    },
    {
      "cell_type": "markdown",
      "source": [
        "5.What are dunder methods in Python?\n",
        "\n",
        "\n",
        "ANS-Dunder Methods in Python\n",
        "\n",
        "Dunder means “Double UNDerscore”.\n",
        "\n",
        "These are special methods in Python that start and end with __ (two underscores).\n",
        "\n",
        "They are also called magic methods.\n",
        "\n",
        "Python uses them internally to implement certain behaviors, but you can also override them in your own classes."
      ],
      "metadata": {
        "id": "XtEXcB5kX-vX"
      }
    },
    {
      "cell_type": "markdown",
      "source": [
        "6.Explain the concept of inheritance in OOP\n",
        "\n",
        "\n",
        "ANS-Inheritance is a concept in Object-Oriented Programming (OOP) where one class (child/derived class) can use the properties and methods of another class (parent/base class).\n",
        "\n",
        "-- It allows code reusability and supports a hierarchical relationship between classes."
      ],
      "metadata": {
        "id": "H26HdnSBYPGY"
      }
    },
    {
      "cell_type": "markdown",
      "source": [
        "7.What is polymorphism in OOP?\n",
        "\n",
        "\n",
        "ANS-The word Polymorphism comes from Greek:\n",
        "\n",
        "Poly = many\n",
        "\n",
        "Morph = forms\n",
        "-- In OOP, Polymorphism means the ability of the same function/method/operator to behave differently based on the object or context."
      ],
      "metadata": {
        "id": "lMFdOGyoYZw1"
      }
    },
    {
      "cell_type": "markdown",
      "source": [
        "8.How is encapsulation achieved in Python?\n",
        "\n",
        "\n",
        "ANS-Encapsulation means bundling data (attributes) and methods (functions) inside a class, and restricting direct access to some of the class’s data to protect it.\n",
        "-- In Python, encapsulation is achieved mainly through access modifiers"
      ],
      "metadata": {
        "id": "Nai7nmNgYlVs"
      }
    },
    {
      "cell_type": "markdown",
      "source": [
        "9.What is a constructor in Python?\n",
        "\n",
        "\n",
        "ANS-A constructor is a special method in a class that is automatically called when a new object of the class is created.\n",
        "\n",
        "In Python, the constructor method is always named __init__().\n",
        "\n",
        "Its main purpose is to initialize object attributes (assign values to data members)."
      ],
      "metadata": {
        "id": "0Nl3DDZRY3JT"
      }
    },
    {
      "cell_type": "markdown",
      "source": [
        "10.What are class and static methods in Python?\n",
        "\n",
        "\n",
        "ANS-Static Method\n",
        "\n",
        "Defined using @staticmethod decorator.\n",
        "\n",
        "Does not take self or cls.\n",
        "\n",
        "Works like a normal function inside a class (for logical grouping).\n",
        "\n",
        "Cannot access instance or class variables directly.\n",
        "\n",
        "\n",
        "\n",
        "\n",
        "\n",
        "\n",
        "\n",
        "Class Method\n",
        "\n",
        "Defined using @classmethod decorator.\n",
        "\n",
        "Takes cls (class itself) as the first parameter instead of self.\n",
        "\n",
        "Used when you want to work with the class as a whole, not just individual objects.\n",
        "\n",
        "Often used for alternative constructors.\n",
        "\n",
        "\n",
        "\n",
        "\n",
        "\n"
      ],
      "metadata": {
        "id": "HXU82g01ZBJL"
      }
    },
    {
      "cell_type": "markdown",
      "source": [
        "11.What is method overloading in Python?\n",
        "\n",
        "\n",
        "ANS-Method overloading means having multiple methods with the same name but different parameters (different number or type of arguments) in the same class.\n",
        "\n",
        "In many languages like Java or C++, this is supported directly.\n",
        "\n",
        "Python does NOT support traditional method overloading because the last defined method with the same name overrides the previous ones."
      ],
      "metadata": {
        "id": "qvAtCSQqZVBL"
      }
    },
    {
      "cell_type": "markdown",
      "source": [
        "12. What is method overriding in OOP?\n",
        "\n",
        "\n",
        "ANS-Method Overriding in OOP\n",
        "\n",
        "Method overriding occurs when a child (derived) class provides its own implementation of a method that is already defined in the parent (base) class.\n",
        "\n",
        "The child’s method replaces the parent’s method when called from the child object."
      ],
      "metadata": {
        "id": "yopUnjCTZhRi"
      }
    },
    {
      "cell_type": "markdown",
      "source": [
        "13.What is a property decorator in Python?\n",
        "\n",
        "\n",
        "\n",
        "ANS-Property Decorator (@property)\n",
        "\n",
        "The @property decorator allows you to define methods that can be accessed like attributes.\n",
        "\n",
        "It’s mainly used for encapsulation: controlling access to an attribute without changing the way you access it.\n",
        "\n",
        "Lets you define getter, setter, and deleter methods for an attribute."
      ],
      "metadata": {
        "id": "zvbofd4BZtIN"
      }
    },
    {
      "cell_type": "markdown",
      "source": [
        "14.Why is polymorphism important in OOP?\n",
        "\n",
        "\n",
        "\n",
        "ANS-Polymorphism is important because it reduces code duplication, increases flexibility, and allows objects of different types to be used interchangeably, making programs easier to maintain and extend."
      ],
      "metadata": {
        "id": "1b6U_1B8aDmj"
      }
    },
    {
      "cell_type": "markdown",
      "source": [
        "15. What is an abstract class in Python?\n",
        "\n",
        "\n",
        "ANS--An abstract class is a class that cannot be instantiated directly and is meant to be inherited by other classes.\n",
        "\n",
        "It can contain abstract methods (methods without implementation) that must be implemented by child classes."
      ],
      "metadata": {
        "id": "R5eHfJN_aN_r"
      }
    },
    {
      "cell_type": "markdown",
      "source": [
        "16.What are the advantages of OOP?\n",
        "\n",
        "\n",
        "ANS--Modularity – Code organized into classes.\n",
        "\n",
        "Reusability – Inheritance allows code reuse.\n",
        "\n",
        "Encapsulation – Protects data.\n",
        "\n",
        "Abstraction – Hides unnecessary details.\n",
        "\n",
        "Polymorphism – Same method, different behaviors.\n",
        "\n",
        "Maintainability & Scalability – Easy to modify and extend.\n",
        "\n",
        "Real-world Modeling – Represents real-world entities."
      ],
      "metadata": {
        "id": "HIqlMsjcaV2r"
      }
    },
    {
      "cell_type": "markdown",
      "source": [
        "17.What is the difference between a class variable and an instance variable?\n",
        "\n",
        "\n",
        "ANS--Class Variable\n",
        "\n",
        "Definition: A variable that is shared among all instances of a class.\n",
        "\n",
        "Defined: Inside the class but outside any method.\n",
        "\n",
        "Access: Can be accessed by class name or any instance.\n",
        "\n",
        "Changes: If modified through the class, it affects all instances\n",
        "\n",
        "\n",
        "\n",
        "\n",
        "\n",
        "\n",
        "Instance Variable\n",
        "\n",
        "Definition: A variable that is unique to each object (instance).\n",
        "\n",
        "Defined: Inside the constructor __init__() using self.\n",
        "\n",
        "Access: Accessed through the object.\n",
        "\n",
        "Changes: Modifying it affects only that object."
      ],
      "metadata": {
        "id": "Bbdb-1dqam3p"
      }
    },
    {
      "cell_type": "markdown",
      "source": [
        "18.What is multiple inheritance in Python?\n",
        "\n",
        "\n",
        "\n",
        "\n",
        "ANS--Multiple inheritance occurs when a child class inherits from more than one parent class.\n",
        "\n",
        "This allows the child class to access attributes and methods from multiple parent classes.\n",
        "\n",
        "Python resolves any method name conflicts using Method Resolution Order (MRO)"
      ],
      "metadata": {
        "id": "-appgCqEazT1"
      }
    },
    {
      "cell_type": "markdown",
      "source": [
        "19.Explain the purpose of ‘’__str__’ and ‘__repr__’ ‘ methods in Python?\n",
        "\n",
        "\n",
        "ans--__str__ Method\n",
        "\n",
        "Purpose: Defines a human-readable string representation of an object.\n",
        "\n",
        "Called by the built-in str() function and print().\n",
        "\n",
        "\n",
        "\n",
        "\n",
        "\n",
        "\n",
        "__repr__ Method\n",
        "\n",
        "Purpose: Defines an unambiguous string representation of an object.\n",
        "\n",
        "Called by the built-in repr() function and when inspecting an object in the interpreter."
      ],
      "metadata": {
        "id": "5eEY0Tqfa9hp"
      }
    },
    {
      "cell_type": "markdown",
      "source": [
        "20.What is the significance of the ‘super()’ function in Python?\n",
        "\n",
        "\n",
        "\n",
        "ans-The super() function is used to call a method from the parent (base) class in a child (derived) class.\n",
        "\n",
        "Commonly used to access parent class methods or constructors without explicitly naming the parent class.\n",
        "\n",
        "Helps avoid duplicating code and is essential in multiple inheritance scenarios to respect the Method Resolution Order (MRO)"
      ],
      "metadata": {
        "id": "6QjxZDu9bKCV"
      }
    },
    {
      "cell_type": "markdown",
      "source": [
        "21.What is the significance of the __del__ method in Python?\n",
        "\n",
        "\n",
        "\n",
        "ans-The __del__ method is also called a destructor.\n",
        "\n",
        "It is automatically called when an object is about to be destroyed (garbage collected).\n",
        "\n",
        "Mainly used to release resources or perform cleanup tasks before the object is removed from memory."
      ],
      "metadata": {
        "id": "ujJuvzWgbSv3"
      }
    },
    {
      "cell_type": "markdown",
      "source": [
        "22.What is the difference between @staticmethod and @classmethod in Python?\n",
        "\n",
        "\n",
        "\n",
        "ans-@staticmethod\n",
        "\n",
        "Does not take self or cls as the first parameter.\n",
        "\n",
        "Cannot access instance variables or class variables directly.\n",
        "\n",
        "Acts like a regular function inside a class, logically grouped with the class\n",
        "\n",
        "\n",
        "\n",
        "\n",
        "\n",
        "\n",
        "@classmethod\n",
        "\n",
        "Takes cls as the first parameter (refers to the class itself).\n",
        "\n",
        "Can access class variables and other class methods, but not instance variables.\n",
        "\n",
        "Often used for alternative constructors"
      ],
      "metadata": {
        "id": "WEmrHvPvbbI7"
      }
    },
    {
      "cell_type": "markdown",
      "source": [
        "23.How does polymorphism work in Python with inheritance?\n",
        "\n",
        "\n",
        "ans-Polymorphism with Inheritance\n",
        "\n",
        "Polymorphism allows objects of different classes (usually related by inheritance) to be treated uniformly while calling methods with the same name.\n",
        "\n",
        "When a child class overrides a method of its parent, the child’s version is called, even if you refer to the object as a parent type.\n",
        "\n",
        "This is called runtime polymorphism or method overriding."
      ],
      "metadata": {
        "id": "BBKchL_lbot1"
      }
    },
    {
      "cell_type": "markdown",
      "source": [
        "24. What is method chaining in Python OOP?\n",
        "\n",
        "\n",
        "\n",
        "ans-Method chaining is a technique where multiple methods are called on the same object in a single line.\n",
        "\n",
        "Each method returns the object itself (self), so the next method can be called immediately."
      ],
      "metadata": {
        "id": "t0hkCcQ6bzLp"
      }
    },
    {
      "cell_type": "markdown",
      "source": [
        "25.What is the purpose of the __call__ method in Python?\n",
        "\n",
        "\n",
        "\n",
        "ans--The __call__ method allows an instance of a class to be called like a function.\n",
        "\n",
        "When you use parentheses () on an object, Python internally calls the object’s __call__ method.\n",
        "\n",
        "Useful for making objects behave like functions or for function-like APIs"
      ],
      "metadata": {
        "id": "Kt_zaDmQb8Vp"
      }
    },
    {
      "cell_type": "markdown",
      "source": [
        "#PRACTICAL QUESTION"
      ],
      "metadata": {
        "id": "yR89PSgrcGH1"
      }
    },
    {
      "cell_type": "code",
      "source": [
        "#1. Create a parent class Animal with a method speak() that prints a generic message. Create a child class Dog\n",
        "#that overrides the speak() method to print \"Bark!\".\n",
        "\n",
        "\n",
        "\n",
        "class Animal:\n",
        "    def speak(self):\n",
        "        print(\"This animal makes a sound\")\n",
        "\n",
        "class Dog(Animal):\n",
        "    def speak(self):\n",
        "        print(\"Bark!\")\n",
        "\n",
        "a = Animal()\n",
        "d = Dog()\n",
        "\n",
        "a.speak()\n",
        "d.speak()\n"
      ],
      "metadata": {
        "colab": {
          "base_uri": "https://localhost:8080/"
        },
        "id": "O1lTLY19cK95",
        "outputId": "8306c04f-69d7-4d15-bf9f-d7eb663a24f8"
      },
      "execution_count": 1,
      "outputs": [
        {
          "output_type": "stream",
          "name": "stdout",
          "text": [
            "This animal makes a sound\n",
            "Bark!\n"
          ]
        }
      ]
    },
    {
      "cell_type": "code",
      "source": [
        "#2. Write a program to create an abstract class Shape with a method area(). Derive classes Circle and Rectangle\n",
        "#from it and implement the area() method in both.\n",
        "\n",
        "\n",
        "\n",
        "\n",
        "from abc import ABC, abstractmethod\n",
        "import math\n",
        "\n",
        "class Shape(ABC):\n",
        "    @abstractmethod\n",
        "    def area(self):\n",
        "        pass\n",
        "\n",
        "class Circle(Shape):\n",
        "    def __init__(self, radius):\n",
        "        self.radius = radius\n",
        "\n",
        "    def area(self):\n",
        "        return math.pi * self.radius ** 2\n",
        "\n",
        "class Rectangle(Shape):\n",
        "    def __init__(self, length, width):\n",
        "        self.length = length\n",
        "        self.width = width\n",
        "\n",
        "    def area(self):\n",
        "        return self.length * self.width\n",
        "\n",
        "c = Circle(5)\n",
        "r = Rectangle(4, 6)\n",
        "\n",
        "print(c.area())\n",
        "print(r.area())\n"
      ],
      "metadata": {
        "colab": {
          "base_uri": "https://localhost:8080/"
        },
        "id": "gizFgitVcd8-",
        "outputId": "9eb59ce2-29ac-452d-e6d6-08fc923478cd"
      },
      "execution_count": 2,
      "outputs": [
        {
          "output_type": "stream",
          "name": "stdout",
          "text": [
            "78.53981633974483\n",
            "24\n"
          ]
        }
      ]
    },
    {
      "cell_type": "code",
      "source": [
        "#3. Implement a multi-level inheritance scenario where a class Vehicle has an attribute type. Derive a class Car and further derive a class ElectricCar that adds a battery attribute.\n",
        "\n",
        "\n",
        "class Vehicle:\n",
        "    def __init__(self, vehicle_type):\n",
        "        self.type = vehicle_type\n",
        "\n",
        "class Car(Vehicle):\n",
        "    def __init__(self, vehicle_type, model):\n",
        "        super().__init__(vehicle_type)\n",
        "        self.model = model\n",
        "\n",
        "class ElectricCar(Car):\n",
        "    def __init__(self, vehicle_type, model, battery):\n",
        "        super().__init__(vehicle_type, model)\n",
        "        self.battery = battery\n",
        "\n",
        "    def display_info(self):\n",
        "        print(f\"Type: {self.type}, Model: {self.model}, Battery: {self.battery} kWh\")\n",
        "\n",
        "ecar = ElectricCar(\"Car\", \"Tesla Model S\", 100)\n",
        "ecar.display_info()\n",
        "\n"
      ],
      "metadata": {
        "colab": {
          "base_uri": "https://localhost:8080/"
        },
        "id": "JfZasqFwctCx",
        "outputId": "e6d5989d-eebc-412a-e0af-c17ecea205d3"
      },
      "execution_count": 3,
      "outputs": [
        {
          "output_type": "stream",
          "name": "stdout",
          "text": [
            "Type: Car, Model: Tesla Model S, Battery: 100 kWh\n"
          ]
        }
      ]
    },
    {
      "cell_type": "code",
      "source": [
        "#4. Demonstrate polymorphism by creating a base class Bird with a method fly(). Create two derived classes\n",
        "#Sparrow and Penguin that override the fly() method.\n",
        "\n",
        "\n",
        "\n",
        "class Bird:\n",
        "    def fly(self):\n",
        "        print(\"Some birds can fly\")\n",
        "\n",
        "class Sparrow(Bird):\n",
        "    def fly(self):\n",
        "        print(\"Sparrow can fly\")\n",
        "\n",
        "class Penguin(Bird):\n",
        "    def fly(self):\n",
        "        print(\"Penguin cannot fly\")\n",
        "\n",
        "birds = [Sparrow(), Penguin()]\n",
        "\n",
        "for bird in birds:\n",
        "    bird.fly()\n"
      ],
      "metadata": {
        "colab": {
          "base_uri": "https://localhost:8080/"
        },
        "id": "053db_62c7Rv",
        "outputId": "1e2c62e2-c673-479f-edcd-2e20bbd75c40"
      },
      "execution_count": 4,
      "outputs": [
        {
          "output_type": "stream",
          "name": "stdout",
          "text": [
            "Sparrow can fly\n",
            "Penguin cannot fly\n"
          ]
        }
      ]
    },
    {
      "cell_type": "code",
      "source": [
        "#5. Write a program to demonstrate encapsulation by creating a class BankAccount with private attributes\n",
        "#balance and methods to deposit, withdraw, and check balance.\n",
        "\n",
        "\n",
        "\n",
        "class BankAccount:\n",
        "    def __init__(self, balance):\n",
        "        self.__balance = balance  # private attribute\n",
        "\n",
        "    def deposit(self, amount):\n",
        "        if amount > 0:\n",
        "            self.__balance += amount\n",
        "            print(f\"Deposited: {amount}\")\n",
        "        else:\n",
        "            print(\"Invalid deposit amount\")\n",
        "\n",
        "    def withdraw(self, amount):\n",
        "        if 0 < amount <= self.__balance:\n",
        "            self.__balance -= amount\n",
        "            print(f\"Withdrawn: {amount}\")\n",
        "        else:\n",
        "            print(\"Insufficient balance or invalid amount\")\n",
        "\n",
        "    def check_balance(self):\n",
        "        print(f\"Current balance: {self.__balance}\")\n",
        "\n",
        "# Usage\n",
        "account = BankAccount(1000)\n",
        "account.deposit(500)\n",
        "account.withdraw(300)\n",
        "account.check_balance()\n"
      ],
      "metadata": {
        "colab": {
          "base_uri": "https://localhost:8080/"
        },
        "id": "Z5o7kwmVdFyT",
        "outputId": "fa77b3c1-ff20-471d-dcd6-0259c757d378"
      },
      "execution_count": 5,
      "outputs": [
        {
          "output_type": "stream",
          "name": "stdout",
          "text": [
            "Deposited: 500\n",
            "Withdrawn: 300\n",
            "Current balance: 1200\n"
          ]
        }
      ]
    },
    {
      "cell_type": "code",
      "source": [
        "#6. Demonstrate runtime polymorphism using a method play() in a base class Instrument. Derive classes Guitar\n",
        "#and Piano that implement their own version of play().\n",
        "\n",
        "\n",
        "\n",
        "class Instrument:\n",
        "    def play(self):\n",
        "        print(\"Playing instrument\")\n",
        "\n",
        "class Guitar(Instrument):\n",
        "    def play(self):\n",
        "        print(\"Playing Guitar\")\n",
        "\n",
        "class Piano(Instrument):\n",
        "    def play(self):\n",
        "        print(\"Playing Piano\")\n",
        "\n",
        "instruments = [Guitar(), Piano()]\n",
        "\n",
        "for instrument in instruments:\n",
        "    instrument.play()\n",
        "\n"
      ],
      "metadata": {
        "colab": {
          "base_uri": "https://localhost:8080/"
        },
        "id": "j5lfyzuOdT7F",
        "outputId": "b90fd038-7c5b-4e72-c9e6-8b2528ca61cd"
      },
      "execution_count": 7,
      "outputs": [
        {
          "output_type": "stream",
          "name": "stdout",
          "text": [
            "Playing Guitar\n",
            "Playing Piano\n"
          ]
        }
      ]
    },
    {
      "cell_type": "code",
      "source": [
        "#7. Create a class MathOperations with a class method add_numbers() to add two numbers and a static\n",
        "#method subtract_numbers() to subtract two numbers.\n",
        "\n",
        "\n",
        "\n",
        "class MathOperations:\n",
        "    @classmethod\n",
        "    def add_numbers(cls, a, b):\n",
        "        return a + b\n",
        "\n",
        "    @staticmethod\n",
        "    def subtract_numbers(a, b):\n",
        "        return a - b\n",
        "\n",
        "# Usage\n",
        "sum_result = MathOperations.add_numbers(10, 5)\n",
        "diff_result = MathOperations.subtract_numbers(10, 5)\n",
        "\n",
        "print(\"Sum:\", sum_result)\n",
        "print(\"Difference:\", diff_result)\n"
      ],
      "metadata": {
        "colab": {
          "base_uri": "https://localhost:8080/"
        },
        "id": "P6UY_UAbdgC9",
        "outputId": "527d67a0-adb4-45e8-df63-a8ca731ad549"
      },
      "execution_count": 8,
      "outputs": [
        {
          "output_type": "stream",
          "name": "stdout",
          "text": [
            "Sum: 15\n",
            "Difference: 5\n"
          ]
        }
      ]
    },
    {
      "cell_type": "code",
      "source": [
        "#8. Implement a class Person with a class method to count the total number of persons created\n",
        "\n",
        "\n",
        "class Person:\n",
        "    count = 0  # class variable to track number of persons\n",
        "\n",
        "    def __init__(self, name):\n",
        "        self.name = name\n",
        "        Person.count += 1\n",
        "\n",
        "    @classmethod\n",
        "    def total_persons(cls):\n",
        "        return cls.count\n",
        "\n",
        "# Creating objects\n",
        "p1 = Person(\"Akash\")\n",
        "p2 = Person(\"Khushi\")\n",
        "p3 = Person(\"Rohit\")\n",
        "\n",
        "print(\"Total persons created:\", Person.total_persons())\n",
        "\n",
        "\n"
      ],
      "metadata": {
        "colab": {
          "base_uri": "https://localhost:8080/"
        },
        "id": "FDX6HKHbdoLn",
        "outputId": "1eab8f77-d409-4ae0-ff7a-e54087b0c392"
      },
      "execution_count": 9,
      "outputs": [
        {
          "output_type": "stream",
          "name": "stdout",
          "text": [
            "Total persons created: 3\n"
          ]
        }
      ]
    },
    {
      "cell_type": "code",
      "source": [
        "#9. Write a class Fraction with attributes numerator and denominator. Override the str method to display the\n",
        "#fraction as \"numerator/denominator\".\n",
        "\n",
        "\n",
        "\n",
        "class Fraction:\n",
        "    def __init__(self, numerator, denominator):\n",
        "        self.numerator = numerator\n",
        "        self.denominator = denominator\n",
        "\n",
        "    def __str__(self):\n",
        "        return f\"{self.numerator}/{self.denominator}\"\n",
        "\n",
        "# Usage\n",
        "f = Fraction(3, 4)\n",
        "print(f)  # Output: 3/4\n"
      ],
      "metadata": {
        "colab": {
          "base_uri": "https://localhost:8080/"
        },
        "id": "tBJoqVu6d9H4",
        "outputId": "4adffe12-c2aa-42ec-e0a2-3c3982567790"
      },
      "execution_count": 10,
      "outputs": [
        {
          "output_type": "stream",
          "name": "stdout",
          "text": [
            "3/4\n"
          ]
        }
      ]
    },
    {
      "cell_type": "code",
      "source": [
        "#10. Demonstrate operator overloading by creating a class Vector and overriding the add method to add two\n",
        "#vectors\n",
        "\n",
        "\n",
        "class Vector:\n",
        "    def __init__(self, x, y):\n",
        "        self.x = x\n",
        "        self.y = y\n",
        "\n",
        "    def __add__(self, other):\n",
        "        return Vector(self.x + other.x, self.y + other.y)\n",
        "\n",
        "    def __str__(self):\n",
        "        return f\"({self.x}, {self.y})\"\n",
        "\n",
        "# Usage\n",
        "v1 = Vector(2, 3)\n",
        "v2 = Vector(4, 5)\n",
        "\n",
        "v3 = v1 + v2\n",
        "print(v3)  # Output: (6, 8)\n"
      ],
      "metadata": {
        "colab": {
          "base_uri": "https://localhost:8080/"
        },
        "id": "SAvsiOKBeGJr",
        "outputId": "ec46cd2e-ff74-4da8-8e4f-f55f3993527d"
      },
      "execution_count": 11,
      "outputs": [
        {
          "output_type": "stream",
          "name": "stdout",
          "text": [
            "(6, 8)\n"
          ]
        }
      ]
    },
    {
      "cell_type": "code",
      "source": [
        "#11. Create a class Person with attributes name and age. Add a method greet() that prints \"Hello, my name is\n",
        "#{name} and I am {age} years old.\"\n",
        "\n",
        "\n",
        "\n",
        "class Person:\n",
        "    def __init__(self, name, age):\n",
        "        self.name = name\n",
        "        self.age = age\n",
        "\n",
        "    def greet(self):\n",
        "        print(f\"Hello, my name is {self.name} and I am {self.age} years old.\")\n",
        "\n",
        "# Usage\n",
        "p = Person(\"Akash\", 25)\n",
        "p.greet()\n"
      ],
      "metadata": {
        "colab": {
          "base_uri": "https://localhost:8080/"
        },
        "id": "GLybw34zeS0_",
        "outputId": "83ebb293-3b32-4a51-bf31-7b870584d822"
      },
      "execution_count": 12,
      "outputs": [
        {
          "output_type": "stream",
          "name": "stdout",
          "text": [
            "Hello, my name is Akash and I am 25 years old.\n"
          ]
        }
      ]
    },
    {
      "cell_type": "code",
      "source": [
        "#12. Implement a class Student with attributes name and grades. Create a method average_grade() to compute\n",
        "#the average of the grades.\n",
        "\n",
        "\n",
        "class Student:\n",
        "    def __init__(self, name, grades):\n",
        "        self.name = name\n",
        "        self.grades = grades\n",
        "\n",
        "    def average_grade(self):\n",
        "        return sum(self.grades) / len(self.grades) if self.grades else 0\n",
        "\n",
        "# Usage\n",
        "s = Student(\"Akash\", [85, 90, 78, 92])\n",
        "print(\"Average grade:\", s.average_grade())\n"
      ],
      "metadata": {
        "colab": {
          "base_uri": "https://localhost:8080/"
        },
        "id": "kKnXwbekebE6",
        "outputId": "81c1495c-0c54-45ea-e7c6-aef691a92c71"
      },
      "execution_count": 13,
      "outputs": [
        {
          "output_type": "stream",
          "name": "stdout",
          "text": [
            "Average grade: 86.25\n"
          ]
        }
      ]
    },
    {
      "cell_type": "code",
      "source": [
        "#13. Create a class Rectangle with methods set_dimensions() to set the dimensions and area() to calculate the\n",
        "#area.\n",
        "\n",
        "\n",
        "\n",
        "class Rectangle:\n",
        "    def __init__(self):\n",
        "        self.length = 0\n",
        "        self.width = 0\n",
        "\n",
        "    def set_dimensions(self, length, width):\n",
        "        self.length = length\n",
        "        self.width = width\n",
        "\n",
        "    def area(self):\n",
        "        return self.length * self.width\n",
        "\n",
        "# Usage\n",
        "r = Rectangle()\n",
        "r.set_dimensions(5, 3)\n",
        "print(\"Area of rectangle:\", r.area())\n"
      ],
      "metadata": {
        "colab": {
          "base_uri": "https://localhost:8080/"
        },
        "id": "2kpdjCunemEC",
        "outputId": "7f86c023-0107-4c32-84bb-e10e92afa3a0"
      },
      "execution_count": 14,
      "outputs": [
        {
          "output_type": "stream",
          "name": "stdout",
          "text": [
            "Area of rectangle: 15\n"
          ]
        }
      ]
    },
    {
      "cell_type": "code",
      "source": [
        "#14. Create a class Employee with a method calculate_salary() that computes the salary based on hours worked\n",
        "#and hourly rate. Create a derived class Manager that adds a bonus to the salary.\n",
        "\n",
        "\n",
        "class Employee:\n",
        "    def __init__(self, name, hours_worked, hourly_rate):\n",
        "        self.name = name\n",
        "        self.hours_worked = hours_worked\n",
        "        self.hourly_rate = hourly_rate\n",
        "\n",
        "    def calculate_salary(self):\n",
        "        return self.hours_worked * self.hourly_rate\n",
        "\n",
        "class Manager(Employee):\n",
        "    def __init__(self, name, hours_worked, hourly_rate, bonus):\n",
        "        super().__init__(name, hours_worked, hourly_rate)\n",
        "        self.bonus = bonus\n",
        "\n",
        "    def calculate_salary(self):\n",
        "        return super().calculate_salary() + self.bonus\n",
        "\n",
        "# Usage\n",
        "e = Employee(\"Akash\", 40, 20)\n",
        "m = Manager(\"Rohit\", 40, 20, 500)\n",
        "\n",
        "print(\"Employee Salary:\", e.calculate_salary())\n",
        "print(\"Manager Salary:\", m.calculate_salary())\n"
      ],
      "metadata": {
        "colab": {
          "base_uri": "https://localhost:8080/"
        },
        "id": "yQI909freutq",
        "outputId": "8437d0d3-2b57-4d15-d141-71306e98faed"
      },
      "execution_count": 15,
      "outputs": [
        {
          "output_type": "stream",
          "name": "stdout",
          "text": [
            "Employee Salary: 800\n",
            "Manager Salary: 1300\n"
          ]
        }
      ]
    },
    {
      "cell_type": "code",
      "source": [
        "#15. Create a class Product with attributes name, price, and quantity. Implement a method total_price() that\n",
        "#calculates the total price of the product.\n",
        "\n",
        "\n",
        "class Product:\n",
        "    def __init__(self, name, price, quantity):\n",
        "        self.name = name\n",
        "        self.price = price\n",
        "        self.quantity = quantity\n",
        "\n",
        "    def total_price(self):\n",
        "        return self.price * self.quantity\n",
        "\n",
        "# Usage\n",
        "p = Product(\"Laptop\", 50000, 2)\n",
        "print(\"Total price:\", p.total_price())\n"
      ],
      "metadata": {
        "colab": {
          "base_uri": "https://localhost:8080/"
        },
        "id": "9UArI-Uee5EA",
        "outputId": "0d4a005f-e48d-4fb9-f08e-0f45fe387def"
      },
      "execution_count": 16,
      "outputs": [
        {
          "output_type": "stream",
          "name": "stdout",
          "text": [
            "Total price: 100000\n"
          ]
        }
      ]
    },
    {
      "cell_type": "code",
      "source": [
        "#16.Create a class Animal with an abstract method sound(). Create two derived classes Cow and Sheep that\n",
        "#implement the sound() method.\n",
        "\n",
        "\n",
        "\n",
        "\n",
        "from abc import ABC, abstractmethod\n",
        "\n",
        "class Animal(ABC):\n",
        "    @abstractmethod\n",
        "    def sound(self):\n",
        "        pass\n",
        "\n",
        "class Cow(Animal):\n",
        "    def sound(self):\n",
        "        print(\"Moo\")\n",
        "\n",
        "class Sheep(Animal):\n",
        "    def sound(self):\n",
        "        print(\"Baa\")\n",
        "\n",
        "# Usage\n",
        "c = Cow()\n",
        "s = Sheep()\n",
        "\n",
        "c.sound()  # Output: Moo\n",
        "s.sound()  # Output: Baa\n"
      ],
      "metadata": {
        "colab": {
          "base_uri": "https://localhost:8080/"
        },
        "id": "u3tcvR5JfBsK",
        "outputId": "d6d10860-4b39-4812-8b3c-ab36aee89f27"
      },
      "execution_count": 17,
      "outputs": [
        {
          "output_type": "stream",
          "name": "stdout",
          "text": [
            "Moo\n",
            "Baa\n"
          ]
        }
      ]
    },
    {
      "cell_type": "code",
      "source": [
        "#17. Create a class Book with attributes title, author, and year_published. Add a method get_book_info() that\n",
        "#returns a formatted string with the book's details.\n",
        "\n",
        "\n",
        "\n",
        "class Book:\n",
        "    def __init__(self, title, author, year_published):\n",
        "        self.title = title\n",
        "        self.author = author\n",
        "        self.year_published = year_published\n",
        "\n",
        "    def get_book_info(self):\n",
        "        return f\"Title: {self.title}, Author: {self.author}, Year: {self.year_published}\"\n",
        "\n",
        "# Usage\n",
        "b = Book(\"Python Basics\", \"Akash\", 2025)\n",
        "print(b.get_book_info())\n"
      ],
      "metadata": {
        "colab": {
          "base_uri": "https://localhost:8080/"
        },
        "id": "iPzAyg-2fL9z",
        "outputId": "ddfaeebe-280f-4479-b280-40271dbbc55e"
      },
      "execution_count": 18,
      "outputs": [
        {
          "output_type": "stream",
          "name": "stdout",
          "text": [
            "Title: Python Basics, Author: Akash, Year: 2025\n"
          ]
        }
      ]
    },
    {
      "cell_type": "code",
      "source": [
        "#18. Create a class House with attributes address and price. Create a derived class Mansion that adds an\n",
        "#attribute number_of_rooms.\n",
        "\n",
        "\n",
        "class House:\n",
        "    def __init__(self, address, price):\n",
        "        self.address = address\n",
        "        self.price = price\n",
        "\n",
        "class Mansion(House):\n",
        "    def __init__(self, address, price, number_of_rooms):\n",
        "        super().__init__(address, price)\n",
        "        self.number_of_rooms = number_of_rooms\n",
        "\n",
        "    def display_info(self):\n",
        "        print(f\"Address: {self.address}, Price: {self.price}, Rooms: {self.number_of_rooms}\")\n",
        "\n",
        "# Usage\n",
        "m = Mansion(\"123 Luxury St\", 5000000, 10)\n",
        "m.display_info()\n"
      ],
      "metadata": {
        "colab": {
          "base_uri": "https://localhost:8080/"
        },
        "id": "MthIDYjwfXwx",
        "outputId": "ad2675d4-a4aa-4d59-f825-9be8ed29813e"
      },
      "execution_count": 19,
      "outputs": [
        {
          "output_type": "stream",
          "name": "stdout",
          "text": [
            "Address: 123 Luxury St, Price: 5000000, Rooms: 10\n"
          ]
        }
      ]
    }
  ]
}